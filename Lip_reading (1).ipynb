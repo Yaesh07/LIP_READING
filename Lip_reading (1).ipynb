{
  "cells": [
    {
      "cell_type": "code",
      "execution_count": 1,
      "id": "b24af50c-20b8-409d-ad78-30a933fdd669",
      "metadata": {
        "tags": [],
        "id": "b24af50c-20b8-409d-ad78-30a933fdd669"
      },
      "outputs": [],
      "source": [
        "import os\n",
        "import cv2\n",
        "import tensorflow as tf\n",
        "import numpy as np\n",
        "from typing import List\n",
        "from matplotlib import pyplot as plt\n",
        "\n",
        "import imageio"
      ]
    },
    {
      "cell_type": "code",
      "execution_count": 6,
      "id": "1e3db0b0-e559-4ad6-91fd-e7414b7d75e6",
      "metadata": {
        "colab": {
          "base_uri": "https://localhost:8080/"
        },
        "id": "1e3db0b0-e559-4ad6-91fd-e7414b7d75e6",
        "outputId": "2681c52f-ba86-4d89-faa4-6f87eeeb2e4b"
      },
      "outputs": [
        {
          "output_type": "execute_result",
          "data": {
            "text/plain": [
              "[PhysicalDevice(name='/physical_device:GPU:0', device_type='GPU')]"
            ]
          },
          "metadata": {},
          "execution_count": 6
        }
      ],
      "source": [
        "tf.config.list_physical_devices('GPU')"
      ]
    },
    {
      "cell_type": "code",
      "execution_count": 7,
      "id": "378d045a-3003-4f93-b7d2-a25a97774a68",
      "metadata": {
        "tags": [],
        "id": "378d045a-3003-4f93-b7d2-a25a97774a68"
      },
      "outputs": [],
      "source": [
        "physical_devices = tf.config.list_physical_devices('GPU')\n",
        "try:\n",
        "    tf.config.experimental.set_memory_growth(physical_devices[0], True)\n",
        "except:\n",
        "    pass"
      ]
    },
    {
      "cell_type": "code",
      "execution_count": 8,
      "id": "8fb99c90-e05a-437f-839d-6e772f8c1dd5",
      "metadata": {
        "tags": [],
        "id": "8fb99c90-e05a-437f-839d-6e772f8c1dd5"
      },
      "outputs": [],
      "source": [
        "import gdown"
      ]
    },
    {
      "cell_type": "code",
      "execution_count": 10,
      "id": "8548cc59-6dfc-4acc-abc3-3e65212db02e",
      "metadata": {
        "tags": [],
        "id": "8548cc59-6dfc-4acc-abc3-3e65212db02e"
      },
      "outputs": [],
      "source": [
        "def load_video(path:str) -> List[float]:\n",
        "\n",
        "    cap = cv2.VideoCapture(path)\n",
        "    frames = []\n",
        "    for _ in range(int(cap.get(cv2.CAP_PROP_FRAME_COUNT))):\n",
        "        ret, frame = cap.read()\n",
        "        frame = tf.image.rgb_to_grayscale(frame)\n",
        "        frames.append(frame[190:236,80:220,:])\n",
        "    cap.release()\n",
        "\n",
        "    mean = tf.math.reduce_mean(frames)\n",
        "    std = tf.math.reduce_std(tf.cast(frames, tf.float32))\n",
        "    return tf.cast((frames - mean), tf.float32) / std"
      ]
    },
    {
      "cell_type": "code",
      "execution_count": 11,
      "id": "ec735e0b-ec98-4eb0-8f49-c35527d6670a",
      "metadata": {
        "tags": [],
        "id": "ec735e0b-ec98-4eb0-8f49-c35527d6670a"
      },
      "outputs": [],
      "source": [
        "vocab = [x for x in \"abcdefghijklmnopqrstuvwxyz'?!123456789 \"]"
      ]
    },
    {
      "cell_type": "code",
      "execution_count": 12,
      "id": "be04e972-d7a5-4a72-82d8-a6bdde1f3ce6",
      "metadata": {
        "tags": [],
        "colab": {
          "base_uri": "https://localhost:8080/"
        },
        "id": "be04e972-d7a5-4a72-82d8-a6bdde1f3ce6",
        "outputId": "f229874b-1b93-40db-8972-3c746259648f"
      },
      "outputs": [
        {
          "output_type": "stream",
          "name": "stdout",
          "text": [
            "The vocabulary is: ['', 'a', 'b', 'c', 'd', 'e', 'f', 'g', 'h', 'i', 'j', 'k', 'l', 'm', 'n', 'o', 'p', 'q', 'r', 's', 't', 'u', 'v', 'w', 'x', 'y', 'z', \"'\", '?', '!', '1', '2', '3', '4', '5', '6', '7', '8', '9', ' '] (size =40)\n"
          ]
        }
      ],
      "source": [
        "char_to_num = tf.keras.layers.StringLookup(vocabulary=vocab, oov_token=\"\")\n",
        "num_to_char = tf.keras.layers.StringLookup(\n",
        "    vocabulary=char_to_num.get_vocabulary(), oov_token=\"\", invert=True\n",
        ")\n",
        "\n",
        "print(\n",
        "    f\"The vocabulary is: {char_to_num.get_vocabulary()} \"\n",
        "    f\"(size ={char_to_num.vocabulary_size()})\"\n",
        ")"
      ]
    },
    {
      "cell_type": "code",
      "execution_count": 13,
      "id": "559f7420-6802-45fa-9ca0-b1ff209b461c",
      "metadata": {
        "tags": [],
        "colab": {
          "base_uri": "https://localhost:8080/"
        },
        "id": "559f7420-6802-45fa-9ca0-b1ff209b461c",
        "outputId": "1f4125e4-900f-4aa5-c90d-786bb7d14965"
      },
      "outputs": [
        {
          "output_type": "execute_result",
          "data": {
            "text/plain": [
              "['',\n",
              " 'a',\n",
              " 'b',\n",
              " 'c',\n",
              " 'd',\n",
              " 'e',\n",
              " 'f',\n",
              " 'g',\n",
              " 'h',\n",
              " 'i',\n",
              " 'j',\n",
              " 'k',\n",
              " 'l',\n",
              " 'm',\n",
              " 'n',\n",
              " 'o',\n",
              " 'p',\n",
              " 'q',\n",
              " 'r',\n",
              " 's',\n",
              " 't',\n",
              " 'u',\n",
              " 'v',\n",
              " 'w',\n",
              " 'x',\n",
              " 'y',\n",
              " 'z',\n",
              " \"'\",\n",
              " '?',\n",
              " '!',\n",
              " '1',\n",
              " '2',\n",
              " '3',\n",
              " '4',\n",
              " '5',\n",
              " '6',\n",
              " '7',\n",
              " '8',\n",
              " '9',\n",
              " ' ']"
            ]
          },
          "metadata": {},
          "execution_count": 13
        }
      ],
      "source": [
        "char_to_num.get_vocabulary()"
      ]
    },
    {
      "cell_type": "code",
      "execution_count": 14,
      "id": "9491bab5-6a3c-4f79-879a-8f9fbe73ae2e",
      "metadata": {
        "tags": [],
        "id": "9491bab5-6a3c-4f79-879a-8f9fbe73ae2e"
      },
      "outputs": [],
      "source": [
        "def load_alignments(path:str) -> List[str]:\n",
        "    with open(path, 'r') as f:\n",
        "        lines = f.readlines()\n",
        "    tokens = []\n",
        "    for line in lines:\n",
        "        line = line.split()\n",
        "        if line[2] != 'sil':\n",
        "            tokens = [*tokens,' ',line[2]]\n",
        "    return char_to_num(tf.reshape(tf.strings.unicode_split(tokens, input_encoding='UTF-8'), (-1)))[1:]"
      ]
    },
    {
      "cell_type": "code",
      "execution_count": 15,
      "id": "dd01ca9f-77fb-4643-a2aa-47dd82c5d66b",
      "metadata": {
        "tags": [],
        "id": "dd01ca9f-77fb-4643-a2aa-47dd82c5d66b"
      },
      "outputs": [],
      "source": [
        "def load_data(path: str):\n",
        "    path = bytes.decode(path.numpy())\n",
        "    file_name = path.split('/')[-1].split('.')[0]\n",
        "    video_path = os.path.join('data','s1',f'{file_name}.mpg')\n",
        "    alignment_path = os.path.join('data','alignments','s1',f'{file_name}.align')\n",
        "    frames = load_video(video_path)\n",
        "    alignments = load_alignments(alignment_path)\n",
        "\n",
        "    return frames, alignments"
      ]
    },
    {
      "cell_type": "code",
      "execution_count": 16,
      "id": "8cb7cc58-31ae-4904-a805-1177a82717d2",
      "metadata": {
        "tags": [],
        "id": "8cb7cc58-31ae-4904-a805-1177a82717d2"
      },
      "outputs": [],
      "source": [
        "test_path = './data/s1/bbal6n.mpg'"
      ]
    },
    {
      "cell_type": "code",
      "execution_count": 17,
      "id": "76aa964f-0c84-490d-897a-d00e3966e2c9",
      "metadata": {
        "colab": {
          "base_uri": "https://localhost:8080/",
          "height": 35
        },
        "id": "76aa964f-0c84-490d-897a-d00e3966e2c9",
        "outputId": "e7faafb4-b7e2-4745-c20a-0c54b3090137"
      },
      "outputs": [
        {
          "output_type": "execute_result",
          "data": {
            "text/plain": [
              "'bbal6n'"
            ],
            "application/vnd.google.colaboratory.intrinsic+json": {
              "type": "string"
            }
          },
          "metadata": {},
          "execution_count": 17
        }
      ],
      "source": [
        "tf.convert_to_tensor(test_path).numpy().decode('utf-8').split('/')[-1].split('.')[0]"
      ]
    },
    {
      "cell_type": "code",
      "execution_count": 18,
      "id": "eb602c71-8560-4f9e-b26b-08202febb937",
      "metadata": {
        "scrolled": true,
        "tags": [],
        "id": "eb602c71-8560-4f9e-b26b-08202febb937"
      },
      "outputs": [],
      "source": [
        "frames, alignments = load_data(tf.convert_to_tensor(test_path))"
      ]
    },
    {
      "cell_type": "code",
      "execution_count": 19,
      "id": "0e3184a1-6b02-4b4f-84a8-a0a65f951ea2",
      "metadata": {
        "colab": {
          "base_uri": "https://localhost:8080/",
          "height": 244
        },
        "id": "0e3184a1-6b02-4b4f-84a8-a0a65f951ea2",
        "outputId": "3c4c5a40-3952-4636-e33c-03d668735ca3"
      },
      "outputs": [
        {
          "output_type": "execute_result",
          "data": {
            "text/plain": [
              "<matplotlib.image.AxesImage at 0x7b36da99c100>"
            ]
          },
          "metadata": {},
          "execution_count": 19
        },
        {
          "output_type": "display_data",
          "data": {
            "text/plain": [
              "<Figure size 640x480 with 1 Axes>"
            ],
            "image/png": "[encoded data removed]"
          },
          "metadata": {}
        }
      ],
      "source": [
        "plt.imshow(frames[40])"
      ]
    },
    {
      "cell_type": "code",
      "execution_count": 20,
      "id": "d7ec0833-d54b-4073-84cf-92d011c60ec1",
      "metadata": {
        "colab": {
          "base_uri": "https://localhost:8080/"
        },
        "id": "d7ec0833-d54b-4073-84cf-92d011c60ec1",
        "outputId": "60274a3e-ebda-47dd-f224-fab50b10c258"
      },
      "outputs": [
        {
          "output_type": "execute_result",
          "data": {
            "text/plain": [
              "<tf.Tensor: shape=(21,), dtype=int64, numpy=\n",
              "array([ 2,  9, 14, 39,  2, 12, 21,  5, 39,  1, 20, 39, 12, 39, 19,  9, 24,\n",
              "       39, 14, 15, 23])>"
            ]
          },
          "metadata": {},
          "execution_count": 20
        }
      ],
      "source": [
        "alignments"
      ]
    },
    {
      "cell_type": "code",
      "execution_count": 21,
      "id": "fe1ad370-b287-4b46-85a2-7c45b0bd9b10",
      "metadata": {
        "colab": {
          "base_uri": "https://localhost:8080/"
        },
        "id": "fe1ad370-b287-4b46-85a2-7c45b0bd9b10",
        "outputId": "c0710e2b-4eb2-4a47-fff7-bc1c2b7bf079"
      },
      "outputs": [
        {
          "output_type": "execute_result",
          "data": {
            "text/plain": [
              "<tf.Tensor: shape=(), dtype=string, numpy=b'bin blue at l six now'>"
            ]
          },
          "metadata": {},
          "execution_count": 21
        }
      ],
      "source": [
        "tf.strings.reduce_join([bytes.decode(x) for x in num_to_char(alignments.numpy()).numpy()])"
      ]
    },
    {
      "cell_type": "code",
      "execution_count": 22,
      "id": "6871031a-b0ba-4c76-a852-f6329b0f2606",
      "metadata": {
        "tags": [],
        "id": "6871031a-b0ba-4c76-a852-f6329b0f2606"
      },
      "outputs": [],
      "source": [
        "def mappable_function(path:str) ->List[str]:\n",
        "    result = tf.py_function(load_data, [path], (tf.float32, tf.int64))\n",
        "    return result"
      ]
    },
    {
      "cell_type": "code",
      "execution_count": 23,
      "id": "7686355d-45aa-4c85-ad9c-053e6a9b4d81",
      "metadata": {
        "tags": [],
        "id": "7686355d-45aa-4c85-ad9c-053e6a9b4d81"
      },
      "outputs": [],
      "source": [
        "from matplotlib import pyplot as plt"
      ]
    },
    {
      "cell_type": "code",
      "execution_count": 24,
      "id": "f066fea2-91b1-42ed-a67d-00566a1a53ff",
      "metadata": {
        "tags": [],
        "id": "f066fea2-91b1-42ed-a67d-00566a1a53ff"
      },
      "outputs": [],
      "source": [
        "data = tf.data.Dataset.list_files('./data/s1/*.mpg')\n",
        "data = data.shuffle(500, reshuffle_each_iteration=False)\n",
        "data = data.map(mappable_function)\n",
        "data = data.padded_batch(2, padded_shapes=([75,None,None,None],[40]))\n",
        "data = data.prefetch(tf.data.AUTOTUNE)\n",
        "# Added for split\n",
        "train = data.take(450)\n",
        "test = data.skip(450)"
      ]
    },
    {
      "cell_type": "code",
      "execution_count": 25,
      "id": "6b1365bd-7742-41d1-95d4-247021751c3a",
      "metadata": {
        "colab": {
          "base_uri": "https://localhost:8080/"
        },
        "id": "6b1365bd-7742-41d1-95d4-247021751c3a",
        "outputId": "4277672b-367e-4db3-91f8-1936781f29bf"
      },
      "outputs": [
        {
          "output_type": "execute_result",
          "data": {
            "text/plain": [
              "50"
            ]
          },
          "metadata": {},
          "execution_count": 25
        }
      ],
      "source": [
        "len(test)"
      ]
    },
    {
      "cell_type": "code",
      "execution_count": 26,
      "id": "5281bde8-fdc8-4da1-bd55-5a7929a9e80c",
      "metadata": {
        "id": "5281bde8-fdc8-4da1-bd55-5a7929a9e80c"
      },
      "outputs": [],
      "source": [
        "frames, alignments = data.as_numpy_iterator().next()"
      ]
    },
    {
      "cell_type": "code",
      "execution_count": 27,
      "id": "cbebe683-6afd-47fd-bba4-c83b4b13bb32",
      "metadata": {
        "colab": {
          "base_uri": "https://localhost:8080/"
        },
        "id": "cbebe683-6afd-47fd-bba4-c83b4b13bb32",
        "outputId": "315dfce0-6141-4c67-9bec-b26dd98203bb"
      },
      "outputs": [
        {
          "output_type": "execute_result",
          "data": {
            "text/plain": [
              "2"
            ]
          },
          "metadata": {},
          "execution_count": 27
        }
      ],
      "source": [
        "len(frames)"
      ]
    },
    {
      "cell_type": "code",
      "execution_count": 28,
      "id": "5cf2d676-93a9-434c-b3c7-bdcc2577b2e7",
      "metadata": {
        "tags": [],
        "id": "5cf2d676-93a9-434c-b3c7-bdcc2577b2e7"
      },
      "outputs": [],
      "source": [
        "sample = data.as_numpy_iterator()"
      ]
    },
    {
      "cell_type": "code",
      "execution_count": 29,
      "id": "efa6cd46-7079-46c0-b45b-832f339f6cb0",
      "metadata": {
        "scrolled": true,
        "tags": [],
        "colab": {
          "base_uri": "https://localhost:8080/"
        },
        "id": "efa6cd46-7079-46c0-b45b-832f339f6cb0",
        "outputId": "d08141a7-a9f2-47c1-c412-9a62bdd8371e"
      },
      "outputs": [
        {
          "output_type": "execute_result",
          "data": {
            "text/plain": [
              "array([[[[[1.4415749 ],\n",
              "          [1.4415749 ],\n",
              "          [1.4036388 ],\n",
              "          ...,\n",
              "          [0.34142566],\n",
              "          [0.37936184],\n",
              "          [0.37936184]],\n",
              "\n",
              "         [[1.4415749 ],\n",
              "          [1.4415749 ],\n",
              "          [1.4036388 ],\n",
              "          ...,\n",
              "          [0.37936184],\n",
              "          [0.37936184],\n",
              "          [0.37936184]],\n",
              "\n",
              "         [[1.4415749 ],\n",
              "          [1.4415749 ],\n",
              "          [1.4036388 ],\n",
              "          ...,\n",
              "          [0.34142566],\n",
              "          [0.34142566],\n",
              "          [0.34142566]],\n",
              "\n",
              "         ...,\n",
              "\n",
              "         [[1.0622132 ],\n",
              "          [1.024277  ],\n",
              "          [1.024277  ],\n",
              "          ...,\n",
              "          [0.07587237],\n",
              "          [0.03793618],\n",
              "          [0.03793618]],\n",
              "\n",
              "         [[1.024277  ],\n",
              "          [1.024277  ],\n",
              "          [1.024277  ],\n",
              "          ...,\n",
              "          [0.07587237],\n",
              "          [0.03793618],\n",
              "          [0.03793618]],\n",
              "\n",
              "         [[1.024277  ],\n",
              "          [1.024277  ],\n",
              "          [1.024277  ],\n",
              "          ...,\n",
              "          [0.07587237],\n",
              "          [0.03793618],\n",
              "          [0.        ]]],\n",
              "\n",
              "\n",
              "        [[[1.4036388 ],\n",
              "          [1.4036388 ],\n",
              "          [1.4036388 ],\n",
              "          ...,\n",
              "          [0.2655533 ],\n",
              "          [0.2655533 ],\n",
              "          [0.2655533 ]],\n",
              "\n",
              "         [[1.4036388 ],\n",
              "          [1.4036388 ],\n",
              "          [1.4036388 ],\n",
              "          ...,\n",
              "          [0.30348948],\n",
              "          [0.2655533 ],\n",
              "          [0.2655533 ]],\n",
              "\n",
              "         [[1.4036388 ],\n",
              "          [1.4036388 ],\n",
              "          [1.3657026 ],\n",
              "          ...,\n",
              "          [0.30348948],\n",
              "          [0.30348948],\n",
              "          [0.30348948]],\n",
              "\n",
              "         ...,\n",
              "\n",
              "         [[1.0622132 ],\n",
              "          [1.024277  ],\n",
              "          [0.9484046 ],\n",
              "          ...,\n",
              "          [0.03793618],\n",
              "          [0.03793618],\n",
              "          [0.        ]],\n",
              "\n",
              "         [[1.024277  ],\n",
              "          [1.024277  ],\n",
              "          [0.9484046 ],\n",
              "          ...,\n",
              "          [0.03793618],\n",
              "          [0.        ],\n",
              "          [0.        ]],\n",
              "\n",
              "         [[1.024277  ],\n",
              "          [1.024277  ],\n",
              "          [0.9104684 ],\n",
              "          ...,\n",
              "          [0.        ],\n",
              "          [0.        ],\n",
              "          [0.        ]]],\n",
              "\n",
              "\n",
              "        [[[1.4036388 ],\n",
              "          [1.4036388 ],\n",
              "          [1.4415749 ],\n",
              "          ...,\n",
              "          [0.34142566],\n",
              "          [0.30348948],\n",
              "          [0.30348948]],\n",
              "\n",
              "         [[1.4036388 ],\n",
              "          [1.4036388 ],\n",
              "          [1.4415749 ],\n",
              "          ...,\n",
              "          [0.37936184],\n",
              "          [0.30348948],\n",
              "          [0.30348948]],\n",
              "\n",
              "         [[1.4415749 ],\n",
              "          [1.4415749 ],\n",
              "          [1.3657026 ],\n",
              "          ...,\n",
              "          [0.30348948],\n",
              "          [0.30348948],\n",
              "          [0.30348948]],\n",
              "\n",
              "         ...,\n",
              "\n",
              "         [[1.024277  ],\n",
              "          [1.024277  ],\n",
              "          [1.024277  ],\n",
              "          ...,\n",
              "          [0.        ],\n",
              "          [0.        ],\n",
              "          [0.        ]],\n",
              "\n",
              "         [[1.024277  ],\n",
              "          [0.98634076],\n",
              "          [0.98634076],\n",
              "          ...,\n",
              "          [0.        ],\n",
              "          [0.        ],\n",
              "          [9.673727  ]],\n",
              "\n",
              "         [[1.024277  ],\n",
              "          [0.98634076],\n",
              "          [0.98634076],\n",
              "          ...,\n",
              "          [0.        ],\n",
              "          [9.673727  ],\n",
              "          [9.673727  ]]],\n",
              "\n",
              "\n",
              "        ...,\n",
              "\n",
              "\n",
              "        [[[1.5174474 ],\n",
              "          [1.5174474 ],\n",
              "          [1.4415749 ],\n",
              "          ...,\n",
              "          [0.34142566],\n",
              "          [0.37936184],\n",
              "          [0.34142566]],\n",
              "\n",
              "         [[1.5174474 ],\n",
              "          [1.4415749 ],\n",
              "          [1.4036388 ],\n",
              "          ...,\n",
              "          [0.34142566],\n",
              "          [0.37936184],\n",
              "          [0.34142566]],\n",
              "\n",
              "         [[1.4036388 ],\n",
              "          [1.4036388 ],\n",
              "          [1.4036388 ],\n",
              "          ...,\n",
              "          [0.2655533 ],\n",
              "          [0.2655533 ],\n",
              "          [0.2655533 ]],\n",
              "\n",
              "         ...,\n",
              "\n",
              "         [[1.024277  ],\n",
              "          [1.024277  ],\n",
              "          [0.98634076],\n",
              "          ...,\n",
              "          [0.03793618],\n",
              "          [0.03793618],\n",
              "          [0.        ]],\n",
              "\n",
              "         [[1.024277  ],\n",
              "          [1.024277  ],\n",
              "          [0.98634076],\n",
              "          ...,\n",
              "          [0.03793618],\n",
              "          [0.        ],\n",
              "          [0.        ]],\n",
              "\n",
              "         [[1.024277  ],\n",
              "          [1.024277  ],\n",
              "          [0.9484046 ],\n",
              "          ...,\n",
              "          [0.        ],\n",
              "          [0.        ],\n",
              "          [9.673727  ]]],\n",
              "\n",
              "\n",
              "        [[[1.5553836 ],\n",
              "          [1.4415749 ],\n",
              "          [1.4415749 ],\n",
              "          ...,\n",
              "          [0.30348948],\n",
              "          [0.34142566],\n",
              "          [0.30348948]],\n",
              "\n",
              "         [[1.5553836 ],\n",
              "          [1.4036388 ],\n",
              "          [1.4036388 ],\n",
              "          ...,\n",
              "          [0.30348948],\n",
              "          [0.34142566],\n",
              "          [0.30348948]],\n",
              "\n",
              "         [[1.4415749 ],\n",
              "          [1.4415749 ],\n",
              "          [1.4036388 ],\n",
              "          ...,\n",
              "          [0.2655533 ],\n",
              "          [0.2655533 ],\n",
              "          [0.2655533 ]],\n",
              "\n",
              "         ...,\n",
              "\n",
              "         [[1.024277  ],\n",
              "          [1.024277  ],\n",
              "          [0.98634076],\n",
              "          ...,\n",
              "          [0.03793618],\n",
              "          [0.03793618],\n",
              "          [0.        ]],\n",
              "\n",
              "         [[1.024277  ],\n",
              "          [1.024277  ],\n",
              "          [0.9484046 ],\n",
              "          ...,\n",
              "          [0.03793618],\n",
              "          [0.        ],\n",
              "          [0.        ]],\n",
              "\n",
              "         [[1.024277  ],\n",
              "          [0.98634076],\n",
              "          [0.9484046 ],\n",
              "          ...,\n",
              "          [0.        ],\n",
              "          [0.        ],\n",
              "          [9.673727  ]]],\n",
              "\n",
              "\n",
              "        [[[1.5553836 ],\n",
              "          [1.4415749 ],\n",
              "          [1.4415749 ],\n",
              "          ...,\n",
              "          [0.30348948],\n",
              "          [0.30348948],\n",
              "          [0.2655533 ]],\n",
              "\n",
              "         [[1.5933198 ],\n",
              "          [1.4036388 ],\n",
              "          [1.3657026 ],\n",
              "          ...,\n",
              "          [0.30348948],\n",
              "          [0.30348948],\n",
              "          [0.2655533 ]],\n",
              "\n",
              "         [[1.5174474 ],\n",
              "          [1.5174474 ],\n",
              "          [1.4036388 ],\n",
              "          ...,\n",
              "          [0.2655533 ],\n",
              "          [0.2655533 ],\n",
              "          [0.2655533 ]],\n",
              "\n",
              "         ...,\n",
              "\n",
              "         [[1.024277  ],\n",
              "          [1.024277  ],\n",
              "          [0.98634076],\n",
              "          ...,\n",
              "          [0.        ],\n",
              "          [0.        ],\n",
              "          [9.673727  ]],\n",
              "\n",
              "         [[1.024277  ],\n",
              "          [1.024277  ],\n",
              "          [0.98634076],\n",
              "          ...,\n",
              "          [0.        ],\n",
              "          [9.673727  ],\n",
              "          [9.673727  ]],\n",
              "\n",
              "         [[1.024277  ],\n",
              "          [1.024277  ],\n",
              "          [0.9484046 ],\n",
              "          ...,\n",
              "          [9.673727  ],\n",
              "          [9.673727  ],\n",
              "          [9.635791  ]]]],\n",
              "\n",
              "\n",
              "\n",
              "       [[[[1.4227918 ],\n",
              "          [1.4227918 ],\n",
              "          [1.384338  ],\n",
              "          ...,\n",
              "          [9.113559  ],\n",
              "          [9.382735  ],\n",
              "          [9.421189  ]],\n",
              "\n",
              "         [[1.4227918 ],\n",
              "          [1.4227918 ],\n",
              "          [1.384338  ],\n",
              "          ...,\n",
              "          [8.72902   ],\n",
              "          [9.344282  ],\n",
              "          [9.5365505 ]],\n",
              "\n",
              "         [[1.3074304 ],\n",
              "          [1.3074304 ],\n",
              "          [1.3074304 ],\n",
              "          ...,\n",
              "          [9.575005  ],\n",
              "          [0.03845384],\n",
              "          [0.03845384]],\n",
              "\n",
              "         ...,\n",
              "\n",
              "         [[0.96134585],\n",
              "          [0.96134585],\n",
              "          [0.92289203],\n",
              "          ...,\n",
              "          [9.767274  ],\n",
              "          [9.767274  ],\n",
              "          [9.767274  ]],\n",
              "\n",
              "         [[0.96134585],\n",
              "          [0.96134585],\n",
              "          [0.92289203],\n",
              "          ...,\n",
              "          [9.651913  ],\n",
              "          [9.690367  ],\n",
              "          [9.690367  ]],\n",
              "\n",
              "         [[0.96134585],\n",
              "          [0.96134585],\n",
              "          [0.92289203],\n",
              "          ...,\n",
              "          [9.651913  ],\n",
              "          [9.690367  ],\n",
              "          [9.690367  ]]],\n",
              "\n",
              "\n",
              "        [[[1.2689766 ],\n",
              "          [1.2689766 ],\n",
              "          [1.2305228 ],\n",
              "          ...,\n",
              "          [9.075105  ],\n",
              "          [9.575005  ],\n",
              "          [9.498097  ]],\n",
              "\n",
              "         [[1.2689766 ],\n",
              "          [1.2689766 ],\n",
              "          [1.2305228 ],\n",
              "          ...,\n",
              "          [8.767474  ],\n",
              "          [9.498097  ],\n",
              "          [9.498097  ]],\n",
              "\n",
              "         [[1.3074304 ],\n",
              "          [1.3074304 ],\n",
              "          [1.3074304 ],\n",
              "          ...,\n",
              "          [9.498097  ],\n",
              "          [9.805728  ],\n",
              "          [9.805728  ]],\n",
              "\n",
              "         ...,\n",
              "\n",
              "         [[0.96134585],\n",
              "          [0.96134585],\n",
              "          [0.96134585],\n",
              "          ...,\n",
              "          [9.690367  ],\n",
              "          [9.690367  ],\n",
              "          [9.690367  ]],\n",
              "\n",
              "         [[0.92289203],\n",
              "          [0.92289203],\n",
              "          [0.92289203],\n",
              "          ...,\n",
              "          [9.613459  ],\n",
              "          [9.575005  ],\n",
              "          [9.575005  ]],\n",
              "\n",
              "         [[0.92289203],\n",
              "          [0.92289203],\n",
              "          [0.92289203],\n",
              "          ...,\n",
              "          [9.613459  ],\n",
              "          [9.575005  ],\n",
              "          [9.575005  ]]],\n",
              "\n",
              "\n",
              "        [[[1.4612457 ],\n",
              "          [1.384338  ],\n",
              "          [1.3458842 ],\n",
              "          ...,\n",
              "          [9.075105  ],\n",
              "          [9.575005  ],\n",
              "          [9.498097  ]],\n",
              "\n",
              "         [[1.4612457 ],\n",
              "          [1.4612457 ],\n",
              "          [1.4227918 ],\n",
              "          ...,\n",
              "          [8.767474  ],\n",
              "          [9.5365505 ],\n",
              "          [9.5365505 ]],\n",
              "\n",
              "         [[1.3458842 ],\n",
              "          [1.3458842 ],\n",
              "          [1.3458842 ],\n",
              "          ...,\n",
              "          [9.498097  ],\n",
              "          [0.        ],\n",
              "          [0.        ]],\n",
              "\n",
              "         ...,\n",
              "\n",
              "         [[0.8844382 ],\n",
              "          [0.92289203],\n",
              "          [0.8844382 ],\n",
              "          ...,\n",
              "          [9.690367  ],\n",
              "          [9.72882   ],\n",
              "          [9.72882   ]],\n",
              "\n",
              "         [[0.96134585],\n",
              "          [0.96134585],\n",
              "          [0.92289203],\n",
              "          ...,\n",
              "          [9.651913  ],\n",
              "          [9.613459  ],\n",
              "          [9.613459  ]],\n",
              "\n",
              "         [[0.96134585],\n",
              "          [0.96134585],\n",
              "          [0.92289203],\n",
              "          ...,\n",
              "          [9.651913  ],\n",
              "          [9.613459  ],\n",
              "          [9.613459  ]]],\n",
              "\n",
              "\n",
              "        ...,\n",
              "\n",
              "\n",
              "        [[[1.3458842 ],\n",
              "          [1.3458842 ],\n",
              "          [1.3458842 ],\n",
              "          ...,\n",
              "          [9.305828  ],\n",
              "          [0.03845384],\n",
              "          [9.805728  ]],\n",
              "\n",
              "         [[1.3458842 ],\n",
              "          [1.3458842 ],\n",
              "          [1.3458842 ],\n",
              "          ...,\n",
              "          [9.305828  ],\n",
              "          [9.767274  ],\n",
              "          [0.15381534]],\n",
              "\n",
              "         [[1.3074304 ],\n",
              "          [1.3074304 ],\n",
              "          [1.3074304 ],\n",
              "          ...,\n",
              "          [9.805728  ],\n",
              "          [0.        ],\n",
              "          [0.        ]],\n",
              "\n",
              "         ...,\n",
              "\n",
              "         [[0.92289203],\n",
              "          [0.92289203],\n",
              "          [0.92289203],\n",
              "          ...,\n",
              "          [9.72882   ],\n",
              "          [9.72882   ],\n",
              "          [9.72882   ]],\n",
              "\n",
              "         [[0.92289203],\n",
              "          [0.92289203],\n",
              "          [0.92289203],\n",
              "          ...,\n",
              "          [9.72882   ],\n",
              "          [9.72882   ],\n",
              "          [9.72882   ]],\n",
              "\n",
              "         [[0.92289203],\n",
              "          [0.92289203],\n",
              "          [0.92289203],\n",
              "          ...,\n",
              "          [9.690367  ],\n",
              "          [9.690367  ],\n",
              "          [9.690367  ]]],\n",
              "\n",
              "\n",
              "        [[[1.3458842 ],\n",
              "          [1.3458842 ],\n",
              "          [1.3458842 ],\n",
              "          ...,\n",
              "          [9.344282  ],\n",
              "          [9.805728  ],\n",
              "          [9.72882   ]],\n",
              "\n",
              "         [[1.3458842 ],\n",
              "          [1.3458842 ],\n",
              "          [1.3458842 ],\n",
              "          ...,\n",
              "          [9.305828  ],\n",
              "          [9.72882   ],\n",
              "          [9.805728  ]],\n",
              "\n",
              "         [[1.3074304 ],\n",
              "          [1.3074304 ],\n",
              "          [1.3074304 ],\n",
              "          ...,\n",
              "          [0.        ],\n",
              "          [0.        ],\n",
              "          [0.15381534]],\n",
              "\n",
              "         ...,\n",
              "\n",
              "         [[0.92289203],\n",
              "          [0.92289203],\n",
              "          [0.92289203],\n",
              "          ...,\n",
              "          [9.690367  ],\n",
              "          [9.72882   ],\n",
              "          [9.72882   ]],\n",
              "\n",
              "         [[0.92289203],\n",
              "          [0.92289203],\n",
              "          [0.92289203],\n",
              "          ...,\n",
              "          [9.72882   ],\n",
              "          [9.72882   ],\n",
              "          [9.72882   ]],\n",
              "\n",
              "         [[0.92289203],\n",
              "          [0.92289203],\n",
              "          [0.92289203],\n",
              "          ...,\n",
              "          [9.651913  ],\n",
              "          [9.651913  ],\n",
              "          [9.651913  ]]],\n",
              "\n",
              "\n",
              "        [[[1.3458842 ],\n",
              "          [1.3458842 ],\n",
              "          [1.384338  ],\n",
              "          ...,\n",
              "          [9.382735  ],\n",
              "          [9.805728  ],\n",
              "          [9.72882   ]],\n",
              "\n",
              "         [[1.3458842 ],\n",
              "          [1.3458842 ],\n",
              "          [1.384338  ],\n",
              "          ...,\n",
              "          [9.267374  ],\n",
              "          [9.767274  ],\n",
              "          [0.03845384]],\n",
              "\n",
              "         [[1.3458842 ],\n",
              "          [1.3458842 ],\n",
              "          [1.3074304 ],\n",
              "          ...,\n",
              "          [0.03845384],\n",
              "          [0.        ],\n",
              "          [0.15381534]],\n",
              "\n",
              "         ...,\n",
              "\n",
              "         [[0.96134585],\n",
              "          [0.96134585],\n",
              "          [0.96134585],\n",
              "          ...,\n",
              "          [9.690367  ],\n",
              "          [9.72882   ],\n",
              "          [9.72882   ]],\n",
              "\n",
              "         [[0.96134585],\n",
              "          [0.96134585],\n",
              "          [0.96134585],\n",
              "          ...,\n",
              "          [9.72882   ],\n",
              "          [9.690367  ],\n",
              "          [9.690367  ]],\n",
              "\n",
              "         [[0.96134585],\n",
              "          [0.96134585],\n",
              "          [0.96134585],\n",
              "          ...,\n",
              "          [9.651913  ],\n",
              "          [9.613459  ],\n",
              "          [9.613459  ]]]]], dtype=float32)"
            ]
          },
          "metadata": {},
          "execution_count": 29
        }
      ],
      "source": [
        "val = sample.next(); val[0]"
      ]
    },
    {
      "cell_type": "code",
      "execution_count": 30,
      "id": "c33a87a2-d5e0-4ec9-b174-73ebf41bf03a",
      "metadata": {
        "tags": [],
        "colab": {
          "base_uri": "https://localhost:8080/",
          "height": 244
        },
        "id": "c33a87a2-d5e0-4ec9-b174-73ebf41bf03a",
        "outputId": "bebc6027-49d6-49cf-bc6c-fabdf7f31ed1"
      },
      "outputs": [
        {
          "output_type": "execute_result",
          "data": {
            "text/plain": [
              "<matplotlib.image.AxesImage at 0x7b36d3f2a8f0>"
            ]
          },
          "metadata": {},
          "execution_count": 30
        },
        {
          "output_type": "display_data",
          "data": {
            "text/plain": [
              "<Figure size 640x480 with 1 Axes>"
            ],
            "image/png": "[encoded data removed]"
          },
          "metadata": {}
        }
      ],
      "source": [
        "# 0:videos, 0: 1st video out of the batch,  0: return the first frame in the video\n",
        "plt.imshow(val[0][0][35])"
      ]
    },
    {
      "cell_type": "code",
      "execution_count": 31,
      "id": "84593332-133c-4205-b7a6-8e235d5e2b3b",
      "metadata": {
        "tags": [],
        "colab": {
          "base_uri": "https://localhost:8080/"
        },
        "id": "84593332-133c-4205-b7a6-8e235d5e2b3b",
        "outputId": "92722bf2-0144-47cf-edc0-a26f5ffa2dab"
      },
      "outputs": [
        {
          "output_type": "execute_result",
          "data": {
            "text/plain": [
              "<tf.Tensor: shape=(), dtype=string, numpy=b'bin green with b five soon'>"
            ]
          },
          "metadata": {},
          "execution_count": 31
        }
      ],
      "source": [
        "tf.strings.reduce_join([num_to_char(word) for word in val[1][0]])"
      ]
    },
    {
      "cell_type": "code",
      "execution_count": 32,
      "id": "d8e9a497-191b-4842-afbd-26f5e13c43ba",
      "metadata": {
        "tags": [],
        "id": "d8e9a497-191b-4842-afbd-26f5e13c43ba"
      },
      "outputs": [],
      "source": [
        "from tensorflow.keras.models import Sequential\n",
        "from tensorflow.keras.layers import Conv3D, LSTM, Dense, Dropout, Bidirectional, MaxPool3D, Activation, Reshape, SpatialDropout3D, BatchNormalization, TimeDistributed, Flatten, GRU\n",
        "from tensorflow.keras.optimizers import Adam\n",
        "from tensorflow.keras.callbacks import ModelCheckpoint, LearningRateScheduler"
      ]
    },
    {
      "cell_type": "code",
      "execution_count": 33,
      "id": "3f753ed2-70b9-4236-8c1c-08ca065dc8bf",
      "metadata": {
        "colab": {
          "base_uri": "https://localhost:8080/"
        },
        "id": "3f753ed2-70b9-4236-8c1c-08ca065dc8bf",
        "outputId": "569e7752-e650-41ee-8cc8-1bb35f38f5a4"
      },
      "outputs": [
        {
          "output_type": "execute_result",
          "data": {
            "text/plain": [
              "(75, 46, 140, 1)"
            ]
          },
          "metadata": {},
          "execution_count": 33
        }
      ],
      "source": [
        "data.as_numpy_iterator().next()[0][0].shape"
      ]
    },
    {
      "cell_type": "code",
      "execution_count": 35,
      "id": "f9171056-a352-491a-9ed9-92b28ced268e",
      "metadata": {
        "tags": [],
        "id": "f9171056-a352-491a-9ed9-92b28ced268e"
      },
      "outputs": [],
      "source": [
        "model = Sequential()\n",
        "model.add(Conv3D(128, 3, input_shape=(75,46,140,1), padding='same'))\n",
        "model.add(Activation('relu'))\n",
        "model.add(MaxPool3D((1,2,2)))\n",
        "\n",
        "model.add(Conv3D(256, 3, padding='same'))\n",
        "model.add(Activation('relu'))\n",
        "model.add(MaxPool3D((1,2,2)))\n",
        "\n",
        "model.add(Conv3D(75, 3, padding='same'))\n",
        "model.add(Activation('relu'))\n",
        "model.add(MaxPool3D((1,2,2)))\n",
        "\n",
        "model.add(TimeDistributed(Flatten()))\n",
        "\n",
        "model.add(Bidirectional(GRU(128, kernel_initializer='Orthogonal', return_sequences=True)))\n",
        "model.add(Dropout(.5))\n",
        "\n",
        "model.add(Bidirectional(GRU(128, kernel_initializer='Orthogonal', return_sequences=True)))\n",
        "model.add(Dropout(.5))\n",
        "\n",
        "model.add(Dense(char_to_num.vocabulary_size()+1, kernel_initializer='he_normal', activation='softmax'))"
      ]
    },
    {
      "cell_type": "code",
      "execution_count": 36,
      "id": "78851825-2bcd-42a9-b7f2-28bb5a6bf43a",
      "metadata": {
        "collapsed": true,
        "jupyter": {
          "outputs_hidden": true
        },
        "tags": [],
        "colab": {
          "base_uri": "https://localhost:8080/"
        },
        "id": "78851825-2bcd-42a9-b7f2-28bb5a6bf43a",
        "outputId": "9aed7cd1-6e5a-46a3-a9df-c1647d117c3a"
      },
      "outputs": [
        {
          "output_type": "stream",
          "name": "stdout",
          "text": [
            "Model: \"sequential_1\"\n",
            "_________________________________________________________________\n",
            " Layer (type)                Output Shape              Param #   \n",
            "=================================================================\n",
            " conv3d_3 (Conv3D)           (None, 75, 46, 140, 128)  3584      \n",
            "                                                                 \n",
            " activation_3 (Activation)   (None, 75, 46, 140, 128)  0         \n",
            "                                                                 \n",
            " max_pooling3d_3 (MaxPooling  (None, 75, 23, 70, 128)  0         \n",
            " 3D)                                                             \n",
            "                                                                 \n",
            " conv3d_4 (Conv3D)           (None, 75, 23, 70, 256)   884992    \n",
            "                                                                 \n",
            " activation_4 (Activation)   (None, 75, 23, 70, 256)   0         \n",
            "                                                                 \n",
            " max_pooling3d_4 (MaxPooling  (None, 75, 11, 35, 256)  0         \n",
            " 3D)                                                             \n",
            "                                                                 \n",
            " conv3d_5 (Conv3D)           (None, 75, 11, 35, 75)    518475    \n",
            "                                                                 \n",
            " activation_5 (Activation)   (None, 75, 11, 35, 75)    0         \n",
            "                                                                 \n",
            " max_pooling3d_5 (MaxPooling  (None, 75, 5, 17, 75)    0         \n",
            " 3D)                                                             \n",
            "                                                                 \n",
            " time_distributed_1 (TimeDis  (None, 75, 6375)         0         \n",
            " tributed)                                                       \n",
            "                                                                 \n",
            " bidirectional_2 (Bidirectio  (None, 75, 256)          6660096   \n",
            " nal)                                                            \n",
            "                                                                 \n",
            " dropout_2 (Dropout)         (None, 75, 256)           0         \n",
            "                                                                 \n",
            " bidirectional_3 (Bidirectio  (None, 75, 256)          394240    \n",
            " nal)                                                            \n",
            "                                                                 \n",
            " dropout_3 (Dropout)         (None, 75, 256)           0         \n",
            "                                                                 \n",
            " dense_1 (Dense)             (None, 75, 41)            10537     \n",
            "                                                                 \n",
            "=================================================================\n",
            "Total params: 8,471,924\n",
            "Trainable params: 8,471,924\n",
            "Non-trainable params: 0\n",
            "_________________________________________________________________\n"
          ]
        }
      ],
      "source": [
        "model.summary()"
      ]
    },
    {
      "cell_type": "code",
      "execution_count": 37,
      "id": "e5c2eae0-c359-41a4-97a0-75c44dccb7d1",
      "metadata": {
        "tags": [],
        "colab": {
          "base_uri": "https://localhost:8080/"
        },
        "id": "e5c2eae0-c359-41a4-97a0-75c44dccb7d1",
        "outputId": "ce7bb181-4974-4ac7-a8f9-505bfa0df9f4"
      },
      "outputs": [
        {
          "output_type": "stream",
          "name": "stdout",
          "text": [
            "1/1 [==============================] - 9s 9s/step\n"
          ]
        }
      ],
      "source": [
        "yhat = model.predict(val[0])"
      ]
    },
    {
      "cell_type": "code",
      "execution_count": 38,
      "id": "ffdc7319-0d69-4f7e-a6d4-ce72deb81c0b",
      "metadata": {
        "colab": {
          "base_uri": "https://localhost:8080/"
        },
        "id": "ffdc7319-0d69-4f7e-a6d4-ce72deb81c0b",
        "outputId": "9f78b49f-27ea-4752-dd92-512835025317"
      },
      "outputs": [
        {
          "output_type": "execute_result",
          "data": {
            "text/plain": [
              "<tf.Tensor: shape=(), dtype=string, numpy=b'vvvvvvvvvvfatttttffaaaaffffffffffffffffffffffaaaaaaaaaaaaaaaaqqqqqqqqqqqqqq'>"
            ]
          },
          "metadata": {},
          "execution_count": 38
        }
      ],
      "source": [
        "tf.strings.reduce_join([num_to_char(x) for x in tf.argmax(yhat[0],axis=1)])"
      ]
    },
    {
      "cell_type": "code",
      "execution_count": 39,
      "id": "6ed47531-8317-4255-9a12-b757642258e6",
      "metadata": {
        "tags": [],
        "colab": {
          "base_uri": "https://localhost:8080/"
        },
        "id": "6ed47531-8317-4255-9a12-b757642258e6",
        "outputId": "b7d3a220-1b18-420d-f01f-d58ffcb54ab6"
      },
      "outputs": [
        {
          "output_type": "execute_result",
          "data": {
            "text/plain": [
              "<tf.Tensor: shape=(), dtype=string, numpy=b'vvvvvvvvvvfatttttffaaaaffffffffffffffffffffffaaaaaaaaaaaaaaaaqqqqqqqqqqqqqq'>"
            ]
          },
          "metadata": {},
          "execution_count": 39
        }
      ],
      "source": [
        "tf.strings.reduce_join([num_to_char(tf.argmax(x)) for x in yhat[0]])"
      ]
    },
    {
      "cell_type": "code",
      "execution_count": 40,
      "id": "7c37b9b9-5298-4038-9c33-5031d1b457f0",
      "metadata": {
        "tags": [],
        "colab": {
          "base_uri": "https://localhost:8080/"
        },
        "id": "7c37b9b9-5298-4038-9c33-5031d1b457f0",
        "outputId": "5344ebff-7b06-4e5e-cf4c-4b3f361bf44f"
      },
      "outputs": [
        {
          "output_type": "execute_result",
          "data": {
            "text/plain": [
              "(None, 75, 46, 140, 1)"
            ]
          },
          "metadata": {},
          "execution_count": 40
        }
      ],
      "source": [
        "model.input_shape"
      ]
    },
    {
      "cell_type": "code",
      "execution_count": 41,
      "id": "98b316a4-5322-4782-8e36-4b3c1a696d85",
      "metadata": {
        "tags": [],
        "colab": {
          "base_uri": "https://localhost:8080/"
        },
        "id": "98b316a4-5322-4782-8e36-4b3c1a696d85",
        "outputId": "09991afa-f4c1-4499-a931-4fb04bdcb548"
      },
      "outputs": [
        {
          "output_type": "execute_result",
          "data": {
            "text/plain": [
              "(None, 75, 41)"
            ]
          },
          "metadata": {},
          "execution_count": 41
        }
      ],
      "source": [
        "model.output_shape"
      ]
    },
    {
      "cell_type": "code",
      "execution_count": 42,
      "id": "ab015fd0-7fb4-4d5d-9fa2-30a05dbd515a",
      "metadata": {
        "tags": [],
        "id": "ab015fd0-7fb4-4d5d-9fa2-30a05dbd515a"
      },
      "outputs": [],
      "source": [
        "def scheduler(epoch, lr):\n",
        "    if epoch < 30:\n",
        "        return lr\n",
        "    else:\n",
        "        return lr * tf.math.exp(-0.1)"
      ]
    },
    {
      "cell_type": "code",
      "execution_count": 43,
      "id": "c564d5c9-db54-4e88-b311-9aeab7fb3e69",
      "metadata": {
        "tags": [],
        "id": "c564d5c9-db54-4e88-b311-9aeab7fb3e69"
      },
      "outputs": [],
      "source": [
        "def CTCLoss(y_true, y_pred):\n",
        "    batch_len = tf.cast(tf.shape(y_true)[0], dtype=\"int64\")\n",
        "    input_length = tf.cast(tf.shape(y_pred)[1], dtype=\"int64\")\n",
        "    label_length = tf.cast(tf.shape(y_true)[1], dtype=\"int64\")\n",
        "\n",
        "    input_length = input_length * tf.ones(shape=(batch_len, 1), dtype=\"int64\")\n",
        "    label_length = label_length * tf.ones(shape=(batch_len, 1), dtype=\"int64\")\n",
        "\n",
        "    loss = tf.keras.backend.ctc_batch_cost(y_true, y_pred, input_length, label_length)\n",
        "    return loss"
      ]
    },
    {
      "cell_type": "code",
      "execution_count": 44,
      "id": "a26dc3fc-a19c-4378-bd8c-e2b597a1d15c",
      "metadata": {
        "tags": [],
        "id": "a26dc3fc-a19c-4378-bd8c-e2b597a1d15c"
      },
      "outputs": [],
      "source": [
        "class ProduceExample(tf.keras.callbacks.Callback):\n",
        "    def __init__(self, dataset) -> None:\n",
        "        self.dataset = dataset.as_numpy_iterator()\n",
        "\n",
        "    def on_epoch_end(self, epoch, logs=None) -> None:\n",
        "        data = self.dataset.next()\n",
        "        yhat = self.model.predict(data[0])\n",
        "        decoded = tf.keras.backend.ctc_decode(yhat, [75,75], greedy=False)[0][0].numpy()\n",
        "        for x in range(len(yhat)):\n",
        "            print('Original:', tf.strings.reduce_join(num_to_char(data[1][x])).numpy().decode('utf-8'))\n",
        "            print('Prediction:', tf.strings.reduce_join(num_to_char(decoded[x])).numpy().decode('utf-8'))\n",
        "            print('~'*100)"
      ]
    },
    {
      "cell_type": "code",
      "execution_count": 45,
      "id": "04be90d8-2482-46f9-b513-d5f4f8001c7e",
      "metadata": {
        "tags": [],
        "id": "04be90d8-2482-46f9-b513-d5f4f8001c7e"
      },
      "outputs": [],
      "source": [
        "model.compile(optimizer=Adam(learning_rate=0.0001), loss=CTCLoss)"
      ]
    },
    {
      "cell_type": "code",
      "execution_count": 46,
      "id": "eab49367-3f1e-4464-ae76-dbd07549d97e",
      "metadata": {
        "tags": [],
        "id": "eab49367-3f1e-4464-ae76-dbd07549d97e"
      },
      "outputs": [],
      "source": [
        "checkpoint_callback = ModelCheckpoint(os.path.join('models','checkpoint'), monitor='loss', save_weights_only=True)"
      ]
    },
    {
      "cell_type": "code",
      "execution_count": 47,
      "id": "e085a632-d464-46ef-8777-959cad4adb2c",
      "metadata": {
        "tags": [],
        "id": "e085a632-d464-46ef-8777-959cad4adb2c"
      },
      "outputs": [],
      "source": [
        "schedule_callback = LearningRateScheduler(scheduler)"
      ]
    },
    {
      "cell_type": "code",
      "execution_count": 48,
      "id": "48eca991-90ab-4592-8a79-b50e9ca015b6",
      "metadata": {
        "tags": [],
        "id": "48eca991-90ab-4592-8a79-b50e9ca015b6"
      },
      "outputs": [],
      "source": [
        "example_callback = ProduceExample(test)"
      ]
    },
    {
      "cell_type": "code",
      "execution_count": 57,
      "id": "8ffba483-aa61-4bbe-a15f-a73e1ddf097c",
      "metadata": {
        "tags": [],
        "id": "8ffba483-aa61-4bbe-a15f-a73e1ddf097c"
      },
      "outputs": [],
      "source": [
        "model.fit(train, validation_data=test, epochs=100, callbacks=[checkpoint_callback, schedule_callback, example_callback])"
      ]
    },
    {
      "cell_type": "code",
      "source": [
        "# pip install tensorflow==2.10"
      ],
      "metadata": {
        "id": "CxG-huihbra6"
      },
      "id": "CxG-huihbra6",
      "execution_count": 56,
      "outputs": []
    },
    {
      "cell_type": "code",
      "execution_count": 49,
      "id": "247f664d-3c87-4e96-946e-930dad0e1c2c",
      "metadata": {
        "tags": [],
        "colab": {
          "base_uri": "https://localhost:8080/"
        },
        "id": "247f664d-3c87-4e96-946e-930dad0e1c2c",
        "outputId": "bd59a847-06bd-44f9-9598-eed76322fcfd"
      },
      "outputs": [
        {
          "output_type": "execute_result",
          "data": {
            "text/plain": [
              "<tensorflow.python.checkpoint.checkpoint.CheckpointLoadStatus at 0x7b368de81120>"
            ]
          },
          "metadata": {},
          "execution_count": 49
        }
      ],
      "source": [
        "model.load_weights('models/checkpoint')"
      ]
    },
    {
      "cell_type": "code",
      "execution_count": 50,
      "id": "7f8d689f-b7bb-443c-9b88-e40c1d800828",
      "metadata": {
        "tags": [],
        "id": "7f8d689f-b7bb-443c-9b88-e40c1d800828"
      },
      "outputs": [],
      "source": [
        "test_data = test.as_numpy_iterator()"
      ]
    },
    {
      "cell_type": "code",
      "source": [],
      "metadata": {
        "id": "qeWn_eLO73na"
      },
      "id": "qeWn_eLO73na",
      "execution_count": null,
      "outputs": []
    },
    {
      "cell_type": "code",
      "execution_count": 51,
      "id": "a8b0c4d0-2031-4331-b91d-d87b1ae6f6e2",
      "metadata": {
        "id": "a8b0c4d0-2031-4331-b91d-d87b1ae6f6e2"
      },
      "outputs": [],
      "source": [
        "sample = load_data(tf.convert_to_tensor('./data/s1/bbaf2n.mpg'))"
      ]
    },
    {
      "cell_type": "code",
      "execution_count": 52,
      "id": "0cca60e4-47a9-4683-8a75-48f4684f723d",
      "metadata": {
        "colab": {
          "base_uri": "https://localhost:8080/"
        },
        "id": "0cca60e4-47a9-4683-8a75-48f4684f723d",
        "outputId": "6d89d654-e810-4bbf-ed28-7a122eae8dfd"
      },
      "outputs": [
        {
          "output_type": "stream",
          "name": "stdout",
          "text": [
            "~~~~~~~~~~~~~~~~~~~~~~~~~~~~~~~~~~~~~~~~~~~~~~~~~~~~~~~~~~~~~~~~~~~~~~~~~~~~~~~~~~~~~~~~~~~~~~~~~~~~ REAL TEXT\n"
          ]
        },
        {
          "output_type": "execute_result",
          "data": {
            "text/plain": [
              "[<tf.Tensor: shape=(), dtype=string, numpy=b'bin blue at f two now'>]"
            ]
          },
          "metadata": {},
          "execution_count": 52
        }
      ],
      "source": [
        "print('~'*100, 'REAL TEXT')\n",
        "[tf.strings.reduce_join([num_to_char(word) for word in sentence]) for sentence in [sample[1]]]"
      ]
    },
    {
      "cell_type": "code",
      "execution_count": 53,
      "id": "8cc5037c-1e32-435c-b0cc-01e1fb3b863c",
      "metadata": {
        "colab": {
          "base_uri": "https://localhost:8080/"
        },
        "id": "8cc5037c-1e32-435c-b0cc-01e1fb3b863c",
        "outputId": "b9a2c48a-9162-445a-8a64-ae40c8ca8445"
      },
      "outputs": [
        {
          "output_type": "stream",
          "name": "stdout",
          "text": [
            "1/1 [==============================] - 4s 4s/step\n"
          ]
        }
      ],
      "source": [
        "yhat = model.predict(tf.expand_dims(sample[0], axis=0))"
      ]
    },
    {
      "cell_type": "code",
      "execution_count": 54,
      "id": "22c4f77d-715d-409f-bc5e-3ebe48704e8f",
      "metadata": {
        "id": "22c4f77d-715d-409f-bc5e-3ebe48704e8f"
      },
      "outputs": [],
      "source": [
        "decoded = tf.keras.backend.ctc_decode(yhat, input_length=[75], greedy=True)[0][0].numpy()"
      ]
    },
    {
      "cell_type": "code",
      "execution_count": 55,
      "id": "e4d12ecc-b634-499e-a4bc-db9f010835fb",
      "metadata": {
        "colab": {
          "base_uri": "https://localhost:8080/"
        },
        "id": "e4d12ecc-b634-499e-a4bc-db9f010835fb",
        "outputId": "9c2af5bc-2aaf-494e-d0ba-3ba84173dd3c"
      },
      "outputs": [
        {
          "output_type": "stream",
          "name": "stdout",
          "text": [
            "~~~~~~~~~~~~~~~~~~~~~~~~~~~~~~~~~~~~~~~~~~~~~~~~~~~~~~~~~~~~~~~~~~~~~~~~~~~~~~~~~~~~~~~~~~~~~~~~~~~~ PREDICTIONS\n"
          ]
        },
        {
          "output_type": "execute_result",
          "data": {
            "text/plain": [
              "[<tf.Tensor: shape=(), dtype=string, numpy=b'bin blue at f two now'>]"
            ]
          },
          "metadata": {},
          "execution_count": 55
        }
      ],
      "source": [
        "print('~'*100, 'PREDICTIONS')\n",
        "[tf.strings.reduce_join([num_to_char(word) for word in sentence]) for sentence in decoded]"
      ]
    },
    {
      "cell_type": "code",
      "execution_count": 51,
      "id": "551dfea2-de6b-4400-b71a-a17631529e3f",
      "metadata": {
        "id": "551dfea2-de6b-4400-b71a-a17631529e3f"
      },
      "outputs": [],
      "source": []
    },
    {
      "cell_type": "code",
      "source": [],
      "metadata": {
        "id": "mmdmXw2R8IXb"
      },
      "id": "mmdmXw2R8IXb",
      "execution_count": null,
      "outputs": []
    },
    {
      "cell_type": "code",
      "source": [],
      "metadata": {
        "id": "uBjbhFHV8Ie3"
      },
      "id": "uBjbhFHV8Ie3",
      "execution_count": null,
      "outputs": []
    },
    {
      "cell_type": "code",
      "source": [
        "sample = load_video('/content/test_video.mp4')"
      ],
      "metadata": {
        "id": "qVVG4EXepMcz"
      },
      "id": "qVVG4EXepMcz",
      "execution_count": 57,
      "outputs": []
    },
    {
      "cell_type": "code",
      "source": [
        "yhat = model.predict(tf.expand_dims(sample, axis=0))"
      ],
      "metadata": {
        "colab": {
          "base_uri": "https://localhost:8080/"
        },
        "id": "xkl_z2SNfr23",
        "outputId": "e02f673f-9048-4c4d-d2ab-cd8453044971"
      },
      "id": "xkl_z2SNfr23",
      "execution_count": 58,
      "outputs": [
        {
          "output_type": "stream",
          "name": "stdout",
          "text": [
            "1/1 [==============================] - 0s 156ms/step\n"
          ]
        }
      ]
    },
    {
      "cell_type": "code",
      "source": [
        "decoded = tf.keras.backend.ctc_decode(yhat, input_length=[75], greedy=True)[0][0].numpy()"
      ],
      "metadata": {
        "id": "n-sib6MAftxu"
      },
      "id": "n-sib6MAftxu",
      "execution_count": 59,
      "outputs": []
    },
    {
      "cell_type": "code",
      "source": [
        "print('~'*100, 'PREDICTIONS')\n",
        "[tf.strings.reduce_join([num_to_char(word) for word in sentence]) for sentence in decoded]"
      ],
      "metadata": {
        "colab": {
          "base_uri": "https://localhost:8080/"
        },
        "id": "LMou-He-fw9f",
        "outputId": "b371db0a-c60c-4850-c91d-06bda8acfdf6"
      },
      "id": "LMou-He-fw9f",
      "execution_count": 60,
      "outputs": [
        {
          "output_type": "stream",
          "name": "stdout",
          "text": [
            "~~~~~~~~~~~~~~~~~~~~~~~~~~~~~~~~~~~~~~~~~~~~~~~~~~~~~~~~~~~~~~~~~~~~~~~~~~~~~~~~~~~~~~~~~~~~~~~~~~~~ PREDICTIONS\n"
          ]
        },
        {
          "output_type": "execute_result",
          "data": {
            "text/plain": [
              "[<tf.Tensor: shape=(), dtype=string, numpy=b'place white by y seve again'>]"
            ]
          },
          "metadata": {},
          "execution_count": 60
        }
      ]
    },
    {
      "cell_type": "code",
      "source": [],
      "metadata": {
        "id": "HF0GVQyig3nI"
      },
      "id": "HF0GVQyig3nI",
      "execution_count": 60,
      "outputs": []
    },
    {
      "cell_type": "code",
      "source": [
        "import pickle"
      ],
      "metadata": {
        "id": "HODlPI2pg3po"
      },
      "id": "HODlPI2pg3po",
      "execution_count": 61,
      "outputs": []
    },
    {
      "cell_type": "code",
      "source": [
        "# with open('model.pkl', 'rb') as file:\n",
        "#     loaded_model = pickle.load(file)\n"
      ],
      "metadata": {
        "id": "jTi0Uu0Wg6vd"
      },
      "id": "jTi0Uu0Wg6vd",
      "execution_count": 62,
      "outputs": []
    },
    {
      "cell_type": "code",
      "source": [],
      "metadata": {
        "id": "DslLuOS5haZt"
      },
      "id": "DslLuOS5haZt",
      "execution_count": null,
      "outputs": []
    }
  ],
  "metadata": {
    "kernelspec": {
      "display_name": "lips",
      "language": "python",
      "name": "lips"
    },
    "language_info": {
      "codemirror_mode": {
        "name": "ipython",
        "version": 3
      },
      "file_extension": ".py",
      "mimetype": "text/x-python",
      "name": "python",
      "nbconvert_exporter": "python",
      "pygments_lexer": "ipython3",
      "version": "3.9.12"
    },
    "colab": {
      "provenance": [],
      "gpuType": "T4"
    },
    "accelerator": "GPU"
  },
  "nbformat": 4,
  "nbformat_minor": 5
}